{
 "cells": [
  {
   "cell_type": "code",
   "execution_count": null,
   "id": "0e43e79d-81fd-45c4-b0ec-4c072d285ff5",
   "metadata": {},
   "outputs": [],
   "source": [
    "import pandas as pd\n",
    "import math"
   ]
  },
  {
   "cell_type": "code",
   "execution_count": 2,
   "id": "5bc9c859-a61e-46e9-af8e-09765a410f43",
   "metadata": {},
   "outputs": [],
   "source": [
    "from pystreng.codes.eurocodes.ec2.ch6.shear import VRdmax"
   ]
  },
  {
   "cell_type": "code",
   "execution_count": null,
   "id": "41a7a0ce-f128-486a-b818-11274f9c62b2",
   "metadata": {},
   "outputs": [
    {
     "data": {
      "text/plain": [
       "446292.00000000006"
      ]
     },
     "execution_count": 3,
     "metadata": {},
     "output_type": "execute_result"
    }
   ],
   "source": [
    "vrdmax = VRdmax(250., 539., 20., 500., 500., math.pi/4)\n",
    "vrdmax"
   ]
  },
  {
   "cell_type": "code",
   "execution_count": null,
   "id": "6e8b55f6-8c7d-46b2-b4af-ea679a99f579",
   "metadata": {},
   "outputs": [],
   "source": []
  }
 ],
 "metadata": {
  "kernelspec": {
   "display_name": "Python 3 (ipykernel)",
   "language": "python",
   "name": "python3"
  },
  "language_info": {
   "codemirror_mode": {
    "name": "ipython",
    "version": 3
   },
   "file_extension": ".py",
   "mimetype": "text/x-python",
   "name": "python",
   "nbconvert_exporter": "python",
   "pygments_lexer": "ipython3",
   "version": "3.12.10"
  }
 },
 "nbformat": 4,
 "nbformat_minor": 5
}

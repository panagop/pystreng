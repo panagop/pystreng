{
 "cells": [
  {
   "cell_type": "code",
   "execution_count": 3,
   "id": "0e43e79d-81fd-45c4-b0ec-4c072d285ff5",
   "metadata": {},
   "outputs": [],
   "source": [
    "import pandas as pd\n",
    "import numpy as np"
   ]
  },
  {
   "cell_type": "code",
   "execution_count": 4,
   "id": "5bc9c859-a61e-46e9-af8e-09765a410f43",
   "metadata": {},
   "outputs": [],
   "source": [
    "from pystreng.codes.eurocodes.ec2.ch6.shear import VRdmax"
   ]
  },
  {
   "cell_type": "code",
   "execution_count": 5,
   "id": "41a7a0ce-f128-486a-b818-11274f9c62b2",
   "metadata": {},
   "outputs": [
    {
     "data": {
      "text/plain": [
       "446292.00000000006"
      ]
     },
     "execution_count": 5,
     "metadata": {},
     "output_type": "execute_result"
    }
   ],
   "source": [
    "vrdmax = VRdmax(250., 539., 20., 500., 500., np.pi/4)\n",
    "vrdmax"
   ]
  },
  {
   "cell_type": "code",
   "execution_count": 6,
   "id": "6e8b55f6-8c7d-46b2-b4af-ea679a99f579",
   "metadata": {},
   "outputs": [],
   "source": [
    "from pystreng.tempfuncs import temp_func"
   ]
  },
  {
   "cell_type": "code",
   "execution_count": 7,
   "id": "123e1a98-a4df-4b4f-824b-b29c83d3c294",
   "metadata": {},
   "outputs": [
    {
     "data": {
      "text/plain": [
       "'This is a temporary function.'"
      ]
     },
     "execution_count": 7,
     "metadata": {},
     "output_type": "execute_result"
    }
   ],
   "source": [
    "temp_func()"
   ]
  },
  {
   "cell_type": "code",
   "execution_count": null,
   "id": "5526d7ea-9c55-4545-9ae1-77e13369ee30",
   "metadata": {},
   "outputs": [],
   "source": []
  }
 ],
 "metadata": {
  "kernelspec": {
   "display_name": "Python 3 (ipykernel)",
   "language": "python",
   "name": "python3"
  },
  "language_info": {
   "codemirror_mode": {
    "name": "ipython",
    "version": 3
   },
   "file_extension": ".py",
   "mimetype": "text/x-python",
   "name": "python",
   "nbconvert_exporter": "python",
   "pygments_lexer": "ipython3",
   "version": "3.12.11"
  }
 },
 "nbformat": 4,
 "nbformat_minor": 5
}

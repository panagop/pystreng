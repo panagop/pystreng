{
 "cells": [
  {
   "cell_type": "code",
   "execution_count": 38,
   "id": "131fbc67-11a6-4f08-ab48-e194b2e538ed",
   "metadata": {},
   "outputs": [],
   "source": [
    "import math\n",
    "from dataclasses import dataclass\n",
    "from typing import Union"
   ]
  },
  {
   "cell_type": "code",
   "execution_count": 51,
   "id": "d6c6e280-f34a-4583-a266-e364fac1e2e0",
   "metadata": {},
   "outputs": [],
   "source": [
    "import math\n",
    "from dataclasses import dataclass\n",
    "from typing import Union\n",
    "\n",
    "\n",
    "@dataclass(frozen=True)\n",
    "class VRdmaxResult:\n",
    "    # Inputs\n",
    "    bw: float\n",
    "    d: float\n",
    "    fck: float\n",
    "    fyk: float\n",
    "    fywk: float\n",
    "    θ: float\n",
    "    αcw: float\n",
    "    γc: float\n",
    "    units: str\n",
    "    # Outputs\n",
    "    value: float\n",
    "    z: float\n",
    "    fcd: float\n",
    "    v1: float\n",
    "    tanθ: float\n",
    "    cotθ: float\n",
    "\n",
    "    def to_latex(self, show_inputs: bool = True, with_steps: bool = True, decimals: int = 3) -> str:\n",
    "        \"\"\"Return a LaTeX string for V_Rd,max formula and results.\"\"\"\n",
    "        q = lambda x: f\"{x:.{decimals}f}\"\n",
    "        V_unit = \"N\" if self.units == \"N-mm-rad\" else \"kN\"\n",
    "        L_unit = \"mm\" if self.units == \"N-mm-rad\" else \"m\"\n",
    "        f_unit = \"N/mm^2\"\n",
    "\n",
    "        inputs = (\n",
    "            \"$$\" +\n",
    "            rf\"\\begin{{array}}{{l l}}\"\n",
    "            rf\"b_w = {q(self.bw)}~\\mathrm{{{L_unit}}} & d = {q(self.d)}~\\mathrm{{{L_unit}}} \\\\ \"\n",
    "            rf\"f_{{ck}} = {q(self.fck)}~\\mathrm{{{f_unit}}} & f_{{yk}} = {q(self.fyk)}~\\mathrm{{{f_unit}}} \\\\ \"\n",
    "            rf\"f_{{ywk}} = {q(self.fywk)}~\\mathrm{{{f_unit}}} & \\theta = {q(self.θ)}~\\mathrm{{rad}} \\\\ \"\n",
    "            rf\"\\alpha_{{cw}} = {q(self.αcw)} & \\gamma_c = {q(self.γc)}\"\n",
    "            r\"\\end{array}$$\" \n",
    "        ) if show_inputs else \"\"\n",
    "\n",
    "        \n",
    "        # Optional intermediate values\n",
    "        inter = (\n",
    "            \"$$\" +\n",
    "            rf\"\\begin{{array}}{{l l}}\"\n",
    "            rf\"z = {q(self.z)}~\\mathrm{{{L_unit}}} & \"\n",
    "            rf\"f_{{cd}} = {q(self.fcd)}~\\mathrm{{{f_unit}}} \\\\ \"\n",
    "            rf\"\\nu_1 = {q(self.v1)} & \"\n",
    "            rf\"\\tan\\theta = {q(self.tanθ)},~\\cot\\theta = {q(self.cotθ)}\"\n",
    "            r\"\\end{array}$$\" \n",
    "        ) if with_steps else \"\"\n",
    "\n",
    "        # Core expression\n",
    "        expr = (\n",
    "            r\"\\begin{align}\"\n",
    "            r\"V_{Rd,\\max} &= \\frac{\\alpha_{cw} b_w z \\nu_1 f_{cd}}{\\cot\\theta + \\tan\\theta}\\\\[3pt]\"\n",
    "            rf\"&= {q(self.value)}~\\text{{{V_unit}}}\"\n",
    "            r\"\\end{align}\"\n",
    "        )\n",
    "        return \"\\n\".join([x for x in [inputs, inter, expr] if x])"
   ]
  },
  {
   "cell_type": "code",
   "execution_count": 52,
   "id": "547527b1-6609-490c-8664-4a7a2bada86a",
   "metadata": {},
   "outputs": [],
   "source": [
    "def VRdmax(\n",
    "    bw: float,\n",
    "    d: float,\n",
    "    fck: float,\n",
    "    fyk: float,\n",
    "    fywk: float,\n",
    "    θ: float,\n",
    "    αcw: float = 1.0,\n",
    "    γc: float = 1.5,\n",
    "    units: str = \"N-mm-rad\",\n",
    "    include_intermediates: bool = False,\n",
    ") -> float | VRdmaxResult:\n",
    "    \"\"\"Compute V_Rd,max according to Eurocode 2.\"\"\"\n",
    "    if units not in (\"N-mm-rad\", \"kN-m-rad\"):\n",
    "        raise ValueError(\"units must be 'N-mm-rad' or 'kN-m-rad'\")\n",
    "\n",
    "    # Normalize units\n",
    "    sL = 1000.0 if units == \"kN-m-rad\" else 1.0\n",
    "    sF = 0.001 if units == \"kN-m-rad\" else 1.0\n",
    "    bw_, d_ = bw * sL, d * sL\n",
    "    fck_, fyk_, fywk_ = fck * sF, fyk * sF, fywk * sF\n",
    "\n",
    "    # Core calculations\n",
    "    z = 0.9 * d_\n",
    "    fcd = fck_ / γc\n",
    "    v1 = (0.6 if fywk_ < 0.8 * fyk_ else 0.6 * (1 - fck_ / 250.0))\n",
    "    tanθ, cotθ = math.tan(θ), 1 / math.tan(θ)\n",
    "    value = αcw * bw_ * z * v1 * fcd / (tanθ + cotθ)\n",
    "    if units == \"kN-m-rad\":\n",
    "        value *= 0.001\n",
    "\n",
    "    res = VRdmaxResult(bw, d, fck, fyk, fywk, θ, αcw, γc, units, value, z, fcd, v1, tanθ, cotθ)\n",
    "    return res if include_intermediates else res.value"
   ]
  },
  {
   "cell_type": "code",
   "execution_count": 54,
   "id": "8e6a1131-0801-4fca-8e86-82b19adf565c",
   "metadata": {},
   "outputs": [
    {
     "name": "stdout",
     "output_type": "stream",
     "text": [
      "446292.00000000006\n",
      "446292.00000000006\n",
      "$$\\begin{array}{l l}b_w = 250.000~\\mathrm{mm} & d = 539.000~\\mathrm{mm} \\\\ f_{ck} = 20.000~\\mathrm{N/mm^2} & f_{yk} = 500.000~\\mathrm{N/mm^2} \\\\ f_{ywk} = 500.000~\\mathrm{N/mm^2} & \\theta = 0.785~\\mathrm{rad} \\\\ \\alpha_{cw} = 1.000 & \\gamma_c = 1.500\\end{array}$$\n",
      "$$\\begin{array}{l l}z = 485.100~\\mathrm{mm} & f_{cd} = 13.333~\\mathrm{N/mm^2} \\\\ \\nu_1 = 0.552 & \\tan\\theta = 1.000,~\\cot\\theta = 1.000\\end{array}$$\n",
      "\\begin{align}V_{Rd,\\max} &= \\frac{\\alpha_{cw} b_w z \\nu_1 f_{cd}}{\\cot\\theta + \\tan\\theta}\\\\[3pt]&= 446292.000~\\text{N}\\end{align}\n"
     ]
    }
   ],
   "source": [
    "import numpy as np\n",
    "\n",
    "# Just the final value\n",
    "V = VRdmax(250., 539., 20., 500., 500., np.pi/4)\n",
    "print(V)  # -> numeric\n",
    "\n",
    "# Full intermediate result object\n",
    "res = VRdmax(250., 539., 20., 500., 500., np.pi/4, include_intermediates=True)\n",
    "print(res.value)\n",
    "\n",
    "# Generate LaTeX output (for a report)\n",
    "print(res.to_latex(show_inputs=True, with_steps=True))\n"
   ]
  },
  {
   "cell_type": "markdown",
   "id": "ee21ae12-6df4-48a0-8c4a-c7d68b04d3cb",
   "metadata": {},
   "source": [
    "\\begin{align}V_{Rd,\\max} &= \\frac{\\alpha_{cw} b_w z \\nu_1 f_{cd}}{\\cot\\theta + \\tan\\theta}\\\\[4pt]&= \\frac{\\alpha_{cw}\\,b_w\\,z\\,\\nu_1\\,f_{cd}}{1.000+1.000} = 446292.000~\\text{N}\\end{align}"
   ]
  },
  {
   "cell_type": "code",
   "execution_count": 60,
   "id": "7a90bc7a-babd-49da-83b2-e88503830f1d",
   "metadata": {},
   "outputs": [
    {
     "name": "stdout",
     "output_type": "stream",
     "text": [
      "539.0\n"
     ]
    }
   ],
   "source": [
    "res = VRdmax(250., 539., 20., 500., 500., np.pi/4, include_intermediates=True)\n",
    "print(res.d)"
   ]
  },
  {
   "cell_type": "code",
   "execution_count": 56,
   "id": "242c6b83-c9b5-4e9e-b2bd-bd21deb643f3",
   "metadata": {},
   "outputs": [],
   "source": [
    "from IPython.display import display, Math, Latex"
   ]
  },
  {
   "cell_type": "code",
   "execution_count": 59,
   "id": "045dd5df-ec98-43f3-853d-15edba13da96",
   "metadata": {},
   "outputs": [
    {
     "data": {
      "text/latex": [
       "$$\\begin{array}{l l}b_w = 250.000~\\mathrm{mm} & d = 539.000~\\mathrm{mm} \\\\ f_{ck} = 20.000~\\mathrm{N/mm^2} & f_{yk} = 500.000~\\mathrm{N/mm^2} \\\\ f_{ywk} = 500.000~\\mathrm{N/mm^2} & \\theta = 0.785~\\mathrm{rad} \\\\ \\alpha_{cw} = 1.000 & \\gamma_c = 1.500\\end{array}$$\n",
       "$$\\begin{array}{l l}z = 485.100~\\mathrm{mm} & f_{cd} = 13.333~\\mathrm{N/mm^2} \\\\ \\nu_1 = 0.552 & \\tan\\theta = 1.000,~\\cot\\theta = 1.000\\end{array}$$\n",
       "\\begin{align}V_{Rd,\\max} &= \\frac{\\alpha_{cw} b_w z \\nu_1 f_{cd}}{\\cot\\theta + \\tan\\theta}\\\\[3pt]&= 446292.000~\\text{N}\\end{align}"
      ],
      "text/plain": [
       "<IPython.core.display.Latex object>"
      ]
     },
     "execution_count": 59,
     "metadata": {},
     "output_type": "execute_result"
    }
   ],
   "source": [
    "Latex(res.to_latex(show_inputs=True, with_steps=True))"
   ]
  },
  {
   "cell_type": "code",
   "execution_count": null,
   "id": "7f3c4d31-2fcd-4618-bd42-069bc1d5316e",
   "metadata": {},
   "outputs": [],
   "source": []
  }
 ],
 "metadata": {
  "kernelspec": {
   "display_name": "Python 3 (ipykernel)",
   "language": "python",
   "name": "python3"
  },
  "language_info": {
   "codemirror_mode": {
    "name": "ipython",
    "version": 3
   },
   "file_extension": ".py",
   "mimetype": "text/x-python",
   "name": "python",
   "nbconvert_exporter": "python",
   "pygments_lexer": "ipython3",
   "version": "3.12.10"
  }
 },
 "nbformat": 4,
 "nbformat_minor": 5
}

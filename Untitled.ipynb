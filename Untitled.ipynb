{
 "cells": [
  {
   "cell_type": "code",
   "execution_count": 2,
   "id": "99e91144-c8d1-433b-946f-1c27c8328f00",
   "metadata": {},
   "outputs": [],
   "source": [
    "import math\n",
    "from IPython.display import display, Math, Latex\n",
    "from pystreng.codes.eurocodes.ec2.ch6.shear import VRdmax, VRdmaxResult\n",
    "# from pystreng.codes.eurocodes.ec2.ch6.shear import VRdc, VRdcResult"
   ]
  },
  {
   "cell_type": "code",
   "execution_count": 16,
   "id": "5348aca3-91cd-4199-bf8f-b64c9c977042",
   "metadata": {},
   "outputs": [
    {
     "name": "stdout",
     "output_type": "stream",
     "text": [
      "446292.00000000006\n",
      "446292.00000000006\n",
      "$$\\begin{array}{l l}b_w = 250.00~\\mathrm{mm} & d = 539.00~\\mathrm{mm} \\\\ f_{ck} = 20.00~\\mathrm{N/mm^2} & f_{yk} = 500.00~\\mathrm{N/mm^2} \\\\ f_{ywk} = 500.00~\\mathrm{N/mm^2} & \\theta = 0.79~\\mathrm{rad} \\\\ \\alpha_{cw} = 1.00 & \\gamma_c = 1.50\\end{array}$$\n",
      "$$\\begin{array}{l l}z = 485.10~\\mathrm{mm} & f_{cd} = 13.33~\\mathrm{N/mm^2} \\\\ \\nu_1 = 0.55 & \\tan\\theta = 1.00,~\\cot\\theta = 1.00\\end{array}$$\n",
      "\\begin{align}V_{Rd,\\max} &= \\frac{\\alpha_{cw} \\cdot b_w \\cdot z \\cdot \\nu_1 \\cdot f_{cd}}{\\cot\\theta + \\tan\\theta}\\\\[3pt]&= 446292.00~\\text{N}\\end{align}\n"
     ]
    }
   ],
   "source": [
    "# Just the final value\n",
    "V = VRdmax(250., 539., 20., 500., 500., math.pi/4)\n",
    "print(V)  # -> numeric\n",
    "\n",
    "# Full intermediate result object\n",
    "res = VRdmax(250., 539., 20., 500., 500., math.pi/4, include_intermediates=True)\n",
    "print(res.value)\n",
    "\n",
    "# Generate LaTeX output (for a report)\n",
    "print(res.to_latex(show_inputs=True, with_steps=True, decimals=2))"
   ]
  },
  {
   "cell_type": "code",
   "execution_count": 17,
   "id": "477a44c4-d004-42fd-88f0-073af57c620d",
   "metadata": {},
   "outputs": [
    {
     "data": {
      "text/latex": [
       "$$\\begin{array}{l l}b_w = 250.0~\\mathrm{mm} & d = 539.0~\\mathrm{mm} \\\\ f_{ck} = 20.0~\\mathrm{N/mm^2} & f_{yk} = 500.0~\\mathrm{N/mm^2} \\\\ f_{ywk} = 500.0~\\mathrm{N/mm^2} & \\theta = 0.8~\\mathrm{rad} \\\\ \\alpha_{cw} = 1.0 & \\gamma_c = 1.5\\end{array}$$\n",
       "$$\\begin{array}{l l}z = 485.1~\\mathrm{mm} & f_{cd} = 13.3~\\mathrm{N/mm^2} \\\\ \\nu_1 = 0.6 & \\tan\\theta = 1.0,~\\cot\\theta = 1.0\\end{array}$$\n",
       "\\begin{align}V_{Rd,\\max} &= \\frac{\\alpha_{cw} \\cdot b_w \\cdot z \\cdot \\nu_1 \\cdot f_{cd}}{\\cot\\theta + \\tan\\theta}\\\\[3pt]&= 446292.0~\\text{N}\\end{align}"
      ],
      "text/plain": [
       "<IPython.core.display.Latex object>"
      ]
     },
     "execution_count": 17,
     "metadata": {},
     "output_type": "execute_result"
    }
   ],
   "source": [
    "Latex(res.to_latex(show_inputs=True, with_steps=True, decimals=1))"
   ]
  },
  {
   "cell_type": "code",
   "execution_count": 5,
   "id": "fc07ab08-0d07-485c-8acc-59deeeaeb168",
   "metadata": {},
   "outputs": [
    {
     "ename": "SyntaxError",
     "evalue": "positional argument follows keyword argument (3943037421.py, line 7)",
     "output_type": "error",
     "traceback": [
      "  \u001b[36mCell\u001b[39m\u001b[36m \u001b[39m\u001b[32mIn[5]\u001b[39m\u001b[32m, line 7\u001b[39m\n\u001b[31m    \u001b[39m\u001b[31munits='N-mm', inc)\u001b[39m\n                     ^\n\u001b[31mSyntaxError\u001b[39m\u001b[31m:\u001b[39m positional argument follows keyword argument\n"
     ]
    }
   ],
   "source": [
    "vrdc = VRdc(CRdc=0.12,\n",
    "            Asl=308,\n",
    "            fck=20.,\n",
    "            σcp=0.66667,\n",
    "            bw=250.,\n",
    "            d=539.,\n",
    "            units='N-mm', inc)"
   ]
  },
  {
   "cell_type": "code",
   "execution_count": null,
   "id": "07fd74ae-cb25-41f8-8ce5-7976e1a66e30",
   "metadata": {},
   "outputs": [],
   "source": [
    "vrdc"
   ]
  },
  {
   "cell_type": "code",
   "execution_count": null,
   "id": "07e914b3-a0d2-499f-bdc8-07187ebbc212",
   "metadata": {},
   "outputs": [],
   "source": []
  }
 ],
 "metadata": {
  "kernelspec": {
   "display_name": "Python 3 (ipykernel)",
   "language": "python",
   "name": "python3"
  },
  "language_info": {
   "codemirror_mode": {
    "name": "ipython",
    "version": 3
   },
   "file_extension": ".py",
   "mimetype": "text/x-python",
   "name": "python",
   "nbconvert_exporter": "python",
   "pygments_lexer": "ipython3",
   "version": "3.12.10"
  }
 },
 "nbformat": 4,
 "nbformat_minor": 5
}

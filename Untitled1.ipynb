{
 "cells": [
  {
   "cell_type": "code",
   "execution_count": 1,
   "id": "41b7c27d-110c-46fd-8912-80f42361f5f4",
   "metadata": {},
   "outputs": [],
   "source": [
    "import math\n",
    "from dataclasses import dataclass\n",
    "from typing import Dict, Union"
   ]
  },
  {
   "cell_type": "code",
   "execution_count": 4,
   "id": "fb6762a1-4a0b-4ec8-a2e2-363d4897c384",
   "metadata": {},
   "outputs": [],
   "source": [
    "import math\n",
    "from dataclasses import dataclass\n",
    "from typing import Union, Optional\n",
    "\n",
    "\n",
    "@dataclass(frozen=True)\n",
    "class VRdcResult:\n",
    "    # Inputs (echoed for reproducibility/LaTeX)\n",
    "    bw: float\n",
    "    d: float\n",
    "    fck: float\n",
    "    ρ_l: float\n",
    "    σ_cp: float\n",
    "    γc: float\n",
    "    units: str\n",
    "    # Outputs/intermediates\n",
    "    value: float            # governing V_Rd,c\n",
    "    V_main: float           # from CRdc*k*(100ρ_l fck)^(1/3) + k1*σ_cp\n",
    "    V_min: float            # from vmin + k1*σ_cp\n",
    "    k: float\n",
    "    C_Rdc: float\n",
    "    k1: float\n",
    "    vmin: float\n",
    "\n",
    "    def to_latex(self, show_inputs: bool = True, with_steps: bool = True, decimals: int = 3) -> str:\n",
    "        \"\"\"LaTeX for V_Rd,c with optional inputs & steps.\"\"\"\n",
    "        q = lambda x: f\"{x:.{decimals}f}\"\n",
    "        V_unit = \"N\" if self.units == \"N-mm-rad\" else \"kN\"\n",
    "        L_unit = \"mm\" if self.units == \"N-mm-rad\" else \"m\"\n",
    "        f_unit = \"N/mm^2\"\n",
    "\n",
    "        inputs = (\n",
    "            \"$$\"\n",
    "            rf\"\\begin{{array}}{{l l}}\"\n",
    "            rf\"b_w = {q(self.bw)}~\\mathrm{{{L_unit}}} & d = {q(self.d)}~\\mathrm{{{L_unit}}} \\\\ \"\n",
    "            rf\"f_{{ck}} = {q(self.fck)}~\\mathrm{{{f_unit}}} & \\rho_l = {q(self.ρ_l)}~(-) \\\\ \"\n",
    "            rf\"\\sigma_{{cp}} = {q(self.σ_cp)}~\\mathrm{{{f_unit}}} & \\gamma_c = {q(self.γc)}\"\n",
    "            r\"\\end{array}$$\"\n",
    "        ) if show_inputs else \"\"\n",
    "\n",
    "        inter = (\n",
    "            \"$$\"\n",
    "            rf\"\\begin{{array}}{{l l}}\"\n",
    "            rf\"k = {q(self.k)} & C_{{Rd,c}} = {q(self.C_Rdc)} \\\\ \"\n",
    "            rf\"k_1 = {q(self.k1)} & v_{{\\min}} = {q(self.vmin)}~\\mathrm{{{f_unit}}}\"\n",
    "            r\"\\end{array}$$\"\n",
    "        ) if with_steps else \"\"\n",
    "\n",
    "        expr = (\n",
    "            r\"\\begin{align}\"\n",
    "            r\"V_{Rd,c} &= \\max\\!\\Big( \\big[C_{Rd,c}\\,k\\,(100\\rho_l f_{ck})^{1/3} + k_1\\sigma_{cp}\\big]\\, b_w d,\\;\"\n",
    "            r\"\\big[v_{\\min} + k_1\\sigma_{cp}\\big]\\, b_w d \\Big) \\\\[3pt]\"\n",
    "            rf\"&= {q(self.value)}~\\text{{{V_unit}}}\"\n",
    "            r\"\\end{align}\"\n",
    "        )\n",
    "        return \"\\n\".join(x for x in (inputs, inter, expr) if x)\n",
    "\n",
    "\n",
    "def VRdc(\n",
    "    bw: float,\n",
    "    d: float,\n",
    "    fck: float,\n",
    "    ρ_l: Optional[float] = None,          # longitudinal tension ratio (≤ 0.02)\n",
    "    A_sl: Optional[float] = None,         # mm^2 (alternative to ρ_l)\n",
    "    σ_cp: Optional[float] = None,         # N/mm^2 (positive in compression)\n",
    "    N_Ed: Optional[float] = None,         # axial force (N or kN per units)\n",
    "    A_c: Optional[float] = None,          # mm^2\n",
    "    γc: float = 1.5,\n",
    "    units: str = \"N-mm-rad\",\n",
    "    include_intermediates: bool = False,\n",
    ") -> Union[float, VRdcResult]:\n",
    "    \"\"\"\n",
    "    Eurocode 2 shear resistance without shear reinforcement.\n",
    "    Uses: V_Rd,c = max( [C_Rd,c k (100 ρ_l f_ck)^{1/3} + k1 σ_cp] b_w d , [v_min + k1 σ_cp] b_w d )\n",
    "    with k = min(1 + sqrt(200/d_mm), 2), v_min = 0.035 k^{3/2} f_ck^{1/2},\n",
    "    C_Rd,c = 0.18/γc, k1 = 0.15. ρ_l ≤ 0.02.\n",
    "    \"\"\"\n",
    "    if units not in (\"N-mm-rad\", \"kN-m-rad\"):\n",
    "        raise ValueError(\"units must be 'N-mm-rad' or 'kN-m-rad'\")\n",
    "\n",
    "    # --- Units normalization to N, mm ---\n",
    "    sL = 1000.0 if units == \"kN-m-rad\" else 1.0\n",
    "    sF = 0.001 if units == \"kN-m-rad\" else 1.0  # stresses (kN/mm² -> N/mm²)\n",
    "    bw_, d_ = bw * sL, d * sL\n",
    "    fck_ = fck * sF\n",
    "\n",
    "    # ρ_l: given or from A_sl /(bw d). Limit to [0, 0.02].\n",
    "    if ρ_l is None:\n",
    "        if A_sl is None:\n",
    "            raise ValueError(\"Provide either ρ_l or A_sl.\")\n",
    "        ρ_l = max(0.0, min(0.02, A_sl / (bw_ * d_)))\n",
    "    else:\n",
    "        ρ_l = max(0.0, min(0.02, ρ_l))\n",
    "\n",
    "    # σ_cp: given or from N_Ed / A_c. (N positive in compression)\n",
    "    if σ_cp is None:\n",
    "        if N_Ed is None or A_c is None:\n",
    "            σ_cp = 0.0\n",
    "        else:\n",
    "            N_ = N_Ed * (1000.0 if units == \"kN-m-rad\" else 1.0)  # kN -> N if needed\n",
    "            σ_cp = N_ / A_c  # N/mm²\n",
    "    else:\n",
    "        σ_cp = σ_cp * sF  # if user provided in kN/mm² under kN-m-rad\n",
    "\n",
    "    # --- EC2 coefficients ---\n",
    "    k = min(1.0 + math.sqrt(200.0 / max(1e-9, d_)), 2.0)\n",
    "    C_Rdc = 0.18 / γc\n",
    "    k1 = 0.15\n",
    "    vmin = 0.035 * (k ** 1.5) * (fck_ ** 0.5)  # N/mm²\n",
    "\n",
    "    # --- Main & minimum expressions (stresses) ---\n",
    "    term_main = C_Rdc * k * ((100.0 * ρ_l * fck_) ** (1.0 / 3.0)) + k1 * σ_cp\n",
    "    term_min = vmin + k1 * σ_cp\n",
    "\n",
    "    # Convert to force: multiply by b_w * d\n",
    "    V_main = term_main * bw_ * d_\n",
    "    V_min = term_min * bw_ * d_\n",
    "    V = max(V_main, V_min)\n",
    "\n",
    "    if units == \"kN-m-rad\":\n",
    "        V *= 0.001  # N -> kN\n",
    "\n",
    "    res = VRdcResult(\n",
    "        bw=bw, d=d, fck=fck, ρ_l=ρ_l if ρ_l is not None else 0.0, σ_cp=σ_cp / (0.001 if units == \"kN-m-rad\" else 1.0),\n",
    "        γc=γc, units=units, value=V,\n",
    "        V_main=V_main * (0.001 if units == \"kN-m-rad\" else 1.0),\n",
    "        V_min=V_min * (0.001 if units == \"kN-m-rad\" else 1.0),\n",
    "        k=k, C_Rdc=C_Rdc, k1=k1, vmin=vmin\n",
    "    )\n",
    "    return res if include_intermediates else res.value"
   ]
  },
  {
   "cell_type": "code",
   "execution_count": 5,
   "id": "0eb45d29-6db4-45d3-a3cc-706c2e416aff",
   "metadata": {},
   "outputs": [
    {
     "name": "stdout",
     "output_type": "stream",
     "text": [
      "$$\\begin{array}{l l}b_w = 250.000~\\mathrm{mm} & d = 539.000~\\mathrm{mm} \\\\ f_{ck} = 30.000~\\mathrm{N/mm^2} & \\rho_l = 0.010~(-) \\\\ \\sigma_{cp} = 0.000~\\mathrm{N/mm^2} & \\gamma_c = 1.500\\end{array}$$\n",
      "$$\\begin{array}{l l}k = 1.609 & C_{Rd,c} = 0.120 \\\\ k_1 = 0.150 & v_{\\min} = 0.391~\\mathrm{N/mm^2}\\end{array}$$\n",
      "\\begin{align}V_{Rd,c} &= \\max\\!\\Big( \\big[C_{Rd,c}\\,k\\,(100\\rho_l f_{ck})^{1/3} + k_1\\sigma_{cp}\\big]\\, b_w d,\\;\\big[v_{\\min} + k_1\\sigma_{cp}\\big]\\, b_w d \\Big) \\\\[3pt]&= 80849.795~\\text{N}\\end{align}\n"
     ]
    }
   ],
   "source": [
    "# given rho_l and sigma_cp directly\n",
    "V = VRdc(250., 539., 30., ρ_l=0.01, σ_cp=0.0)  # returns float\n",
    "res = VRdc(250., 539., 30., ρ_l=0.01, σ_cp=0.0, include_intermediates=True)\n",
    "print(res.to_latex(show_inputs=True, with_steps=True))\n",
    "\n",
    "# or compute from Asl and axial load\n",
    "V2 = VRdc(250., 539., 30., A_sl=2010., N_Ed=0.0, A_c=250.*600.)  # mm²\n"
   ]
  },
  {
   "cell_type": "code",
   "execution_count": 6,
   "id": "6dc3f832-f962-4ad5-a810-d0a8a5d60ac2",
   "metadata": {},
   "outputs": [],
   "source": [
    "from IPython.display import display, Math, Latex"
   ]
  },
  {
   "cell_type": "code",
   "execution_count": 8,
   "id": "1ab66235-3193-4073-a7c5-e2399cecb7c3",
   "metadata": {},
   "outputs": [
    {
     "data": {
      "text/latex": [
       "$$\\begin{array}{l l}b_w = 250.000~\\mathrm{mm} & d = 539.000~\\mathrm{mm} \\\\ f_{ck} = 30.000~\\mathrm{N/mm^2} & \\rho_l = 0.010~(-) \\\\ \\sigma_{cp} = 0.000~\\mathrm{N/mm^2} & \\gamma_c = 1.500\\end{array}$$\n",
       "$$\\begin{array}{l l}k = 1.609 & C_{Rd,c} = 0.120 \\\\ k_1 = 0.150 & v_{\\min} = 0.391~\\mathrm{N/mm^2}\\end{array}$$\n",
       "\\begin{align}V_{Rd,c} &= \\max\\!\\Big( \\big[C_{Rd,c}\\,k\\,(100\\rho_l f_{ck})^{1/3} + k_1\\sigma_{cp}\\big]\\, b_w d,\\;\\big[v_{\\min} + k_1\\sigma_{cp}\\big]\\, b_w d \\Big) \\\\[3pt]&= 80849.795~\\text{N}\\end{align}"
      ],
      "text/plain": [
       "<IPython.core.display.Latex object>"
      ]
     },
     "execution_count": 8,
     "metadata": {},
     "output_type": "execute_result"
    }
   ],
   "source": [
    "Latex(res.to_latex(show_inputs=True, with_steps=True))"
   ]
  },
  {
   "cell_type": "code",
   "execution_count": null,
   "id": "41a3b2f3-9209-4f14-bed3-1cac2f405028",
   "metadata": {},
   "outputs": [],
   "source": []
  }
 ],
 "metadata": {
  "kernelspec": {
   "display_name": "Python 3 (ipykernel)",
   "language": "python",
   "name": "python3"
  },
  "language_info": {
   "codemirror_mode": {
    "name": "ipython",
    "version": 3
   },
   "file_extension": ".py",
   "mimetype": "text/x-python",
   "name": "python",
   "nbconvert_exporter": "python",
   "pygments_lexer": "ipython3",
   "version": "3.12.10"
  }
 },
 "nbformat": 4,
 "nbformat_minor": 5
}

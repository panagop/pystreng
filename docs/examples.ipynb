{
 "cells": [
  {
   "cell_type": "code",
   "execution_count": 4,
   "id": "29c08b10-683d-41cf-99d3-994e6b9634f7",
   "metadata": {},
   "outputs": [],
   "source": [
    "import pandas as pd\n",
    "import numpy as np"
   ]
  },
  {
   "cell_type": "code",
   "execution_count": 5,
   "id": "b2086aa3-98b6-4563-b761-8871da330c80",
   "metadata": {},
   "outputs": [],
   "source": [
    "from pystreng.codes.eurocodes.ec2.ch6.shear import VRdmax"
   ]
  },
  {
   "cell_type": "code",
   "execution_count": 7,
   "id": "79df56b7-b3b7-4ab0-bb1e-457e75d4b43e",
   "metadata": {},
   "outputs": [
    {
     "data": {
      "text/plain": [
       "446292.00000000006"
      ]
     },
     "execution_count": 7,
     "metadata": {},
     "output_type": "execute_result"
    }
   ],
   "source": [
    "vrdmax = VRdmax(250., 539., 20., 500., 500., np.pi/4)\n",
    "vrdmax"
   ]
  },
  {
   "cell_type": "code",
   "execution_count": null,
   "id": "ceb93395-b2a2-4fe2-ab53-11ba2a785387",
   "metadata": {},
   "outputs": [],
   "source": []
  }
 ],
 "metadata": {
  "kernelspec": {
   "display_name": "Python 3 (ipykernel)",
   "language": "python",
   "name": "python3"
  },
  "language_info": {
   "codemirror_mode": {
    "name": "ipython",
    "version": 3
   },
   "file_extension": ".py",
   "mimetype": "text/x-python",
   "name": "python",
   "nbconvert_exporter": "python",
   "pygments_lexer": "ipython3",
   "version": "3.12.10"
  }
 },
 "nbformat": 4,
 "nbformat_minor": 5
}
